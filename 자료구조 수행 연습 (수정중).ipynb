{
 "cells": [
  {
   "cell_type": "code",
   "execution_count": null,
   "id": "37b1170d",
   "metadata": {},
   "outputs": [
    {
     "name": "stdout",
     "output_type": "stream",
     "text": [
      "(1)push (2)pop (3)print (4)reverse (5)exit1\n",
      "푸쉬, 현재 인덱스: 0, 값을 입력하세요qwe\n",
      "(1)push (2)pop (3)print (4)reverse (5)exit3\n",
      "qwe \n",
      "(1)push (2)pop (3)print (4)reverse (5)exit4\n",
      "스택이 반전되었습니다!\n",
      "{0: 'ewq'}\n",
      "(1)push (2)pop (3)print (4)reverse (5)exit3\n",
      "ewq \n",
      "(1)push (2)pop (3)print (4)reverse (5)exit2\n",
      "합, 현재 인덱스 : 0, 값을 입력하세요 : \n",
      "(1)push (2)pop (3)print (4)reverse (5)exit1\n",
      "푸쉬, 현재 인덱스: 0, 값을 입력하세요123\n",
      "(1)push (2)pop (3)print (4)reverse (5)exit1\n",
      "푸쉬, 현재 인덱스: 1, 값을 입력하세요456\n",
      "(1)push (2)pop (3)print (4)reverse (5)exit1\n",
      "푸쉬, 현재 인덱스: 2, 값을 입력하세요789\n",
      "(1)push (2)pop (3)print (4)reverse (5)exit2\n",
      "합, 현재 인덱스 : 2, 값을 입력하세요 : \n",
      "(1)push (2)pop (3)print (4)reverse (5)exit2\n",
      "합, 현재 인덱스 : 1, 값을 입력하세요 : \n",
      "(1)push (2)pop (3)print (4)reverse (5)exit2\n",
      "합, 현재 인덱스 : 0, 값을 입력하세요 : \n"
     ]
    }
   ],
   "source": [
    "스택 = {}\n",
    "승현 = -1\n",
    "\n",
    "while True:\n",
    "    입력 = int(input(\"(1)push (2)pop (3)print (4)reverse (5)exit\"))\n",
    "\n",
    "    if 입력==1:         # push\n",
    "        승현+=1\n",
    "        스택[승현] = input(f\"푸쉬, 현재 인덱스: {승현}, 값을 입력하세요\")\n",
    "    elif 입력==2:       # pop\n",
    "        if 승현 >= 0:\n",
    "            print(f'합, 현재 인덱스 : {승현}, 값을 입력하세요 : ')\n",
    "#             del 스택[승현]\n",
    "            승현 -= 1\n",
    "        else : \n",
    "            print(\"스택이 비어있습니다!\")\n",
    "    elif 입력==3:       # print\n",
    "        for i in range(승현, -1, -1) :\n",
    "            print(스택[i]+\" \")\n",
    "    elif 입력==4:\n",
    "        if 승현 >= 0:\n",
    "            reversed_stack = {}\n",
    "            for i in range(승현+1):\n",
    "                reversed_stack[i] = 스택[승현-i][::-1]\n",
    "                스택 = reversed_stack\n",
    "            print('스택이 반전되었습니다!')\n",
    "            print(스택)\n",
    "        else : \n",
    "            print(\"스택이 비어있습니다.\")\n",
    "    elif 입력 == 5:\n",
    "        break\n",
    "    else:\n",
    "        print(\"재미없어!!\")"
   ]
  },
  {
   "cell_type": "code",
   "execution_count": null,
   "id": "65d5378e",
   "metadata": {},
   "outputs": [],
   "source": []
  },
  {
   "cell_type": "code",
   "execution_count": null,
   "id": "d07b3496",
   "metadata": {},
   "outputs": [],
   "source": [
    "1"
   ]
  }
 ],
 "metadata": {
  "kernelspec": {
   "display_name": "Python 3 (ipykernel)",
   "language": "python",
   "name": "python3"
  },
  "language_info": {
   "codemirror_mode": {
    "name": "ipython",
    "version": 3
   },
   "file_extension": ".py",
   "mimetype": "text/x-python",
   "name": "python",
   "nbconvert_exporter": "python",
   "pygments_lexer": "ipython3",
   "version": "3.10.9"
  }
 },
 "nbformat": 4,
 "nbformat_minor": 5
}
