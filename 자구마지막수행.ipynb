{
  "nbformat": 4,
  "nbformat_minor": 0,
  "metadata": {
    "colab": {
      "provenance": []
    },
    "kernelspec": {
      "name": "python3",
      "display_name": "Python 3"
    },
    "language_info": {
      "name": "python"
    }
  },
  "cells": [
    {
      "cell_type": "code",
      "execution_count": 32,
      "metadata": {
        "colab": {
          "base_uri": "https://localhost:8080/"
        },
        "id": "m0KmlvpUzd2Q",
        "outputId": "a33f88d4-1d00-4d0d-9184-7444817aae12"
      },
      "outputs": [
        {
          "name": "stdout",
          "output_type": "stream",
          "text": [
            "큐 프로그램.. (1)삽입 (2)삭제 (3)출력 (4)종료\n",
            "3\n",
            "큐가 비어있습니다.\n",
            "[0, 0, 0, 0, 0, 0]\n",
            "큐 프로그램.. (1)삽입 (2)삭제 (3)출력 (4)종료\n",
            "4\n"
          ]
        }
      ],
      "source": [
        "#  심화문제1 : 삭제된 요소는 출력하지 않긔\n",
        "#  심화문제2 : 앞쪽과 뒤쪽이 같아졌을때 큐 초기화하기\n",
        "#  심화문제3 : 큐가 가득 찼을때(앞쪽==6) -> 추가가 불가능해 출력하긔\n",
        "큐 = [0,0,0,0,0,0]\n",
        "\n",
        "# front rear\n",
        "앞쪽 = -1\n",
        "뒤쪽 = -1\n",
        "\n",
        "while True:\n",
        "    print('큐 프로그램.. (1)삽입 (2)삭제 (3)출력 (4)종료')\n",
        "    선택 = int(input(''))\n",
        "    if 선택==1 :\n",
        "      if 앞쪽 == len(큐)-1 :\n",
        "        print('추가가 불가능해.')\n",
        "      else:\n",
        "        앞쪽+=1\n",
        "        큐[앞쪽] = int(input('값을 입력하세요'))\n",
        "    elif 선택==2:\n",
        "      if 앞쪽 == 뒤쪽 :\n",
        "        큐 = [0,0,0,0,0,0]\n",
        "        print(\"큐가 비어있습니다.\")\n",
        "      else :\n",
        "        뒤쪽+=1\n",
        "        print(f'{큐[뒤쪽]} 값을 삭제합니다')\n",
        "    elif 선택==3:\n",
        "      if 앞쪽 == 뒤쪽:\n",
        "        print(\"큐가 비어있습니다.\")\n",
        "        print(큐)\n",
        "      else :\n",
        "#         뒤쪽+1 번째부터 앞쪽 번째까지를 출력\n",
        "        for i in range(뒤쪽+1, 앞쪽+1):\n",
        "            print(큐[i], end=' ')\n",
        "        print()\n",
        "    else:\n",
        "        break"
      ]
    },
    {
      "cell_type": "code",
      "source": [
        "11133113len(큐)"
      ],
      "metadata": {
        "colab": {
          "base_uri": "https://localhost:8080/",
          "height": 110
        },
        "id": "h3Omzx_a09Cm",
        "outputId": "5379a20b-00e1-4c22-da96-09891dce3cce"
      },
      "execution_count": 29,
      "outputs": [
        {
          "output_type": "error",
          "ename": "SyntaxError",
          "evalue": "invalid decimal literal (<ipython-input-29-a95181139fa5>, line 1)",
          "traceback": [
            "\u001b[0;36m  File \u001b[0;32m\"<ipython-input-29-a95181139fa5>\"\u001b[0;36m, line \u001b[0;32m1\u001b[0m\n\u001b[0;31m    1133113len(큐)\u001b[0m\n\u001b[0m          ^\u001b[0m\n\u001b[0;31mSyntaxError\u001b[0m\u001b[0;31m:\u001b[0m invalid decimal literal\n"
          ]
        }
      ]
    },
    {
      "cell_type": "code",
      "source": [],
      "metadata": {
        "id": "FVl7XIB91d8C"
      },
      "execution_count": null,
      "outputs": []
    }
  ]
}