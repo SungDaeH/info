{
 "cells": [
  {
   "cell_type": "code",
   "execution_count": 6,
   "id": "6460cd91",
   "metadata": {},
   "outputs": [
    {
     "name": "stdout",
     "output_type": "stream",
     "text": [
      "2\n"
     ]
    },
    {
     "data": {
      "text/plain": [
       "[18, 25, 7, 52, 63, 100, 0]"
      ]
     },
     "execution_count": 6,
     "metadata": {},
     "output_type": "execute_result"
    }
   ],
   "source": [
    "배열 = [18, 25, 52, 63, 100, 0, 0]\n",
    "\n",
    "# 입력받기(몇번째에 무슨 값을 넣을지)\n",
    "\n",
    "입력 = int(input()) # 2\n",
    "\n",
    "값 = 7\n",
    "\n",
    "for i in range(len(배열),입력,-1):\n",
    "    배열[i-1] = 배열[i-2]\n",
    "\n",
    "배열[입력] = 값\n",
    "\n",
    "배열"
   ]
  },
  {
   "cell_type": "code",
   "execution_count": null,
   "id": "7ce26d6c",
   "metadata": {},
   "outputs": [],
   "source": []
  }
 ],
 "metadata": {
  "kernelspec": {
   "display_name": "Python 3 (ipykernel)",
   "language": "python",
   "name": "python3"
  },
  "language_info": {
   "codemirror_mode": {
    "name": "ipython",
    "version": 3
   },
   "file_extension": ".py",
   "mimetype": "text/x-python",
   "name": "python",
   "nbconvert_exporter": "python",
   "pygments_lexer": "ipython3",
   "version": "3.10.9"
  }
 },
 "nbformat": 4,
 "nbformat_minor": 5
}
