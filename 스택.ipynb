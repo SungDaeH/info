{
 "cells": [
  {
   "cell_type": "code",
   "execution_count": 9,
   "id": "fc882813",
   "metadata": {
    "scrolled": true
   },
   "outputs": [
    {
     "name": "stdout",
     "output_type": "stream",
     "text": [
      "(1) 삽입 <push>, (2) 삭제 <pop>, (3) 스택 출력 <print>, (4) 종료 <exit>1\n",
      "데이터를 입력하시오\n",
      "3\n",
      "(1) 삽입 <push>, (2) 삭제 <pop>, (3) 스택 출력 <print>, (4) 종료 <exit>1\n",
      "데이터를 입력하시오\n",
      "2\n",
      "(1) 삽입 <push>, (2) 삭제 <pop>, (3) 스택 출력 <print>, (4) 종료 <exit>1\n",
      "데이터를 입력하시오\n",
      "1\n",
      "(1) 삽입 <push>, (2) 삭제 <pop>, (3) 스택 출력 <print>, (4) 종료 <exit>2\n",
      "데이터를 입력하시오.\n",
      "1\n",
      "(1) 삽입 <push>, (2) 삭제 <pop>, (3) 스택 출력 <print>, (4) 종료 <exit>3\n",
      "현재 스택\n",
      "['3', '1']\n",
      "(1) 삽입 <push>, (2) 삭제 <pop>, (3) 스택 출력 <print>, (4) 종료 <exit>4\n"
     ]
    }
   ],
   "source": [
    "# 스택 구현하기\n",
    "\n",
    "스택 = []\n",
    "\n",
    "while True :\n",
    "\n",
    "    입력 = int(input(\"(1) 삽입 <push>, (2) 삭제 <pop>, (3) 스택 출력 <print>, (4) 종료 <exit>\"))\n",
    "\n",
    "    if 입력 == 1:\n",
    "    # push\n",
    "        print(\"데이터를 입력하시오\")\n",
    "        스택.append(input())\n",
    "    elif 입력 == 2:\n",
    "    # pop\n",
    "        print(\"데이터를 입력하시오.\")\n",
    "        스택.pop(int(input()))\n",
    "    elif 입력 == 3:\n",
    "    # print\n",
    "        print(\"현재 스택\")\n",
    "        print(스택)\n",
    "    elif 입력 == 4:\n",
    "        break\n",
    "    else :\n",
    "        print(\"error\")"
   ]
  },
  {
   "cell_type": "code",
   "execution_count": 11,
   "id": "1e0e0609",
   "metadata": {},
   "outputs": [
    {
     "name": "stdout",
     "output_type": "stream",
     "text": [
      "(1) 삽입 <push>, (2) 삭제 <pop>, (3) 스택 출력 <print>, (4) 종료 <exit>1\n",
      "푸쉬, 현재 인덱스 : 0, 값을 정확히 입력하시오. : 1\n",
      "(1) 삽입 <push>, (2) 삭제 <pop>, (3) 스택 출력 <print>, (4) 종료 <exit>1\n",
      "푸쉬, 현재 인덱스 : 1, 값을 정확히 입력하시오. : 2\n",
      "(1) 삽입 <push>, (2) 삭제 <pop>, (3) 스택 출력 <print>, (4) 종료 <exit>1\n",
      "푸쉬, 현재 인덱스 : 2, 값을 정확히 입력하시오. : 3\n",
      "(1) 삽입 <push>, (2) 삭제 <pop>, (3) 스택 출력 <print>, (4) 종료 <exit>2\n",
      "팝팝, 현재 인덱스 :1, 삭제되는 값 : 3\n",
      "(1) 삽입 <push>, (2) 삭제 <pop>, (3) 스택 출력 <print>, (4) 종료 <exit>0\n",
      "error\n",
      "(1) 삽입 <push>, (2) 삭제 <pop>, (3) 스택 출력 <print>, (4) 종료 <exit>2\n",
      "팝팝, 현재 인덱스 :0, 삭제되는 값 : 2\n",
      "(1) 삽입 <push>, (2) 삭제 <pop>, (3) 스택 출력 <print>, (4) 종료 <exit>0\n",
      "error\n",
      "(1) 삽입 <push>, (2) 삭제 <pop>, (3) 스택 출력 <print>, (4) 종료 <exit>2\n",
      "팝팝, 현재 인덱스 :-1, 삭제되는 값 : 1\n",
      "(1) 삽입 <push>, (2) 삭제 <pop>, (3) 스택 출력 <print>, (4) 종료 <exit>1\n",
      "푸쉬, 현재 인덱스 : 0, 값을 정확히 입력하시오. : 1\n",
      "(1) 삽입 <push>, (2) 삭제 <pop>, (3) 스택 출력 <print>, (4) 종료 <exit>2\n",
      "팝팝, 현재 인덱스 :-1, 삭제되는 값 : 1\n",
      "(1) 삽입 <push>, (2) 삭제 <pop>, (3) 스택 출력 <print>, (4) 종료 <exit>1\n",
      "푸쉬, 현재 인덱스 : 0, 값을 정확히 입력하시오. : 3\n",
      "(1) 삽입 <push>, (2) 삭제 <pop>, (3) 스택 출력 <print>, (4) 종료 <exit>3\n",
      "3 \n",
      "(1) 삽입 <push>, (2) 삭제 <pop>, (3) 스택 출력 <print>, (4) 종료 <exit>1\n",
      "푸쉬, 현재 인덱스 : 1, 값을 정확히 입력하시오. : 1\n",
      "(1) 삽입 <push>, (2) 삭제 <pop>, (3) 스택 출력 <print>, (4) 종료 <exit>1\n",
      "푸쉬, 현재 인덱스 : 2, 값을 정확히 입력하시오. : 1\n",
      "(1) 삽입 <push>, (2) 삭제 <pop>, (3) 스택 출력 <print>, (4) 종료 <exit>1\n",
      "푸쉬, 현재 인덱스 : 3, 값을 정확히 입력하시오. : 3\n",
      "(1) 삽입 <push>, (2) 삭제 <pop>, (3) 스택 출력 <print>, (4) 종료 <exit>1\n",
      "푸쉬, 현재 인덱스 : 4, 값을 정확히 입력하시오. : 5\\\n",
      "(1) 삽입 <push>, (2) 삭제 <pop>, (3) 스택 출력 <print>, (4) 종료 <exit>3\n",
      "5\\ \n",
      "3 \n",
      "1 \n",
      "1 \n",
      "3 \n",
      "(1) 삽입 <push>, (2) 삭제 <pop>, (3) 스택 출력 <print>, (4) 종료 <exit>4\n"
     ]
    }
   ],
   "source": [
    "# 스택 구현하기\n",
    "\n",
    "스택 = {}\n",
    "승현 = -1\n",
    "\n",
    "while True :\n",
    "\n",
    "    입력 = int(input(\"(1) 삽입 <push>, (2) 삭제 <pop>, (3) 스택 출력 <print>, (4) 종료 <exit>\"))\n",
    "\n",
    "    if 입력 == 1:\n",
    "    # push\n",
    "        승현 += 1\n",
    "        스택[승현] = input(f'푸쉬, 현재 인덱스 : {승현}, 값을 정확히 입력하시오. : ')\n",
    "    elif 입력 == 2:\n",
    "    # pop\n",
    "        print(f'팝팝, 현재 인덱스 :{승현-1}, 삭제되는 값 : {스택[승현]}')\n",
    "        승현 -= 1\n",
    "    elif 입력 == 3:\n",
    "    # print\n",
    "        for i in range(승현, -1, -1):\n",
    "            print(스택[i]+\" \")\n",
    "    elif 입력 == 4:\n",
    "        break\n",
    "    else :\n",
    "        print(\"error\")"
   ]
  },
  {
   "cell_type": "code",
   "execution_count": null,
   "id": "d4d24f55",
   "metadata": {},
   "outputs": [],
   "source": []
  }
 ],
 "metadata": {
  "kernelspec": {
   "display_name": "Python 3 (ipykernel)",
   "language": "python",
   "name": "python3"
  },
  "language_info": {
   "codemirror_mode": {
    "name": "ipython",
    "version": 3
   },
   "file_extension": ".py",
   "mimetype": "text/x-python",
   "name": "python",
   "nbconvert_exporter": "python",
   "pygments_lexer": "ipython3",
   "version": "3.10.9"
  }
 },
 "nbformat": 4,
 "nbformat_minor": 5
}
